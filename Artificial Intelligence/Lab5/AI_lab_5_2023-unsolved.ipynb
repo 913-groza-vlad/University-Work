{
 "cells": [
  {
   "cell_type": "markdown",
   "id": "b8210b19",
   "metadata": {},
   "source": [
    "## A.I. Assignment 5\n",
    "\n",
    "## Learning Goals\n",
    "\n",
    "By the end of this lab, you should be able to:\n",
    "* Get more familiar with tensors in pytorch \n",
    "* Create a simple multilayer perceptron model with pytorch\n",
    "* Visualise the parameters\n",
    "\n",
    "\n",
    "### Task\n",
    "\n",
    "Build a fully connected feed forward network that adds two bits. Determine the a propper achitecture for this network (what database you use for this problem? how many layers? how many neurons on each layer? what is the activation function? what is the loss function? etc)\n",
    "\n",
    "Create at least 3 such networks and compare their performance (how accurate they are?, how farst they are trained to get at 1 accuracy?)\n",
    "\n",
    "Display for the best one the weights for each layer.\n"
   ]
  },
  {
   "cell_type": "code",
   "execution_count": 1,
   "id": "e3614e5f",
   "metadata": {},
   "outputs": [],
   "source": [
    "import torch\n",
    "import torch.nn as nn\n",
    "from collections import OrderedDict\n"
   ]
  },
  {
   "cell_type": "code",
   "execution_count": 29,
   "id": "5ee7e7d7",
   "metadata": {},
   "outputs": [],
   "source": [
    "# your code here\n",
    "#model1 = nn.Sequential(OrderedDict([\n",
    "#    ('hidden', nn.\n",
    "#]))\n",
    "\n",
    "model1 = nn.Sequential(OrderedDict([('l1', nn.Linear(2, 1)), ('sigmoid', nn.Sigmoid())]))\n"
   ]
  },
  {
   "cell_type": "code",
   "execution_count": 28,
   "id": "665ae958",
   "metadata": {},
   "outputs": [
    {
     "name": "stdout",
     "output_type": "stream",
     "text": [
      "Sequential(\n",
      "  (l1): Linear(in_features=2, out_features=2, bias=True)\n",
      "  (sigmoid): Sigmoid()\n",
      ")\n"
     ]
    }
   ],
   "source": [
    "print(model1)"
   ]
  },
  {
   "cell_type": "code",
   "execution_count": 21,
   "id": "e26f0d3e",
   "metadata": {},
   "outputs": [
    {
     "name": "stdout",
     "output_type": "stream",
     "text": [
      "tensor([[0., 0.],\n",
      "        [0., 1.],\n",
      "        [1., 0.],\n",
      "        [1., 1.]])\n"
     ]
    }
   ],
   "source": [
    "# your code here\n",
    "data_in = torch.tensor([[0, 0], [0, 1], [1, 0], [1, 1]]).float()\n",
    "print(data_in)"
   ]
  },
  {
   "cell_type": "code",
   "execution_count": 22,
   "id": "4fb16bbc",
   "metadata": {},
   "outputs": [
    {
     "name": "stdout",
     "output_type": "stream",
     "text": [
      "tensor([[0.],\n",
      "        [1.],\n",
      "        [1.],\n",
      "        [0.]])\n"
     ]
    }
   ],
   "source": [
    "# your code here\n",
    "data_target = torch.tensor([[0], [1], [1], [0]]).float()\n",
    "print(data_target)"
   ]
  },
  {
   "cell_type": "code",
   "execution_count": 23,
   "id": "69d920ed",
   "metadata": {},
   "outputs": [],
   "source": [
    "# your code here\n",
    "criterion = torch.nn.BCELoss()\n",
    "optimizer = torch.optim.SGD(model1.parameters(), lr=0.1)"
   ]
  },
  {
   "cell_type": "code",
   "execution_count": 24,
   "id": "cde91f6f",
   "metadata": {},
   "outputs": [
    {
     "name": "stdout",
     "output_type": "stream",
     "text": [
      "Epoch [100/1000], Loss: 0.6939\n",
      "Epoch [200/1000], Loss: 0.6934\n",
      "Epoch [300/1000], Loss: 0.6932\n",
      "Epoch [400/1000], Loss: 0.6932\n",
      "Epoch [500/1000], Loss: 0.6932\n",
      "Epoch [600/1000], Loss: 0.6931\n",
      "Epoch [700/1000], Loss: 0.6931\n",
      "Epoch [800/1000], Loss: 0.6931\n",
      "Epoch [900/1000], Loss: 0.6931\n",
      "Epoch [1000/1000], Loss: 0.6931\n"
     ]
    }
   ],
   "source": [
    "# your code here\n",
    "# Train the model\n",
    "for epoch in range(1000):\n",
    "    # Forward pass\n",
    "    outputs = model1(data_in)\n",
    "    loss = criterion(outputs, data_target)\n",
    "\n",
    "    # Backward pass and optimization\n",
    "    optimizer.zero_grad()\n",
    "    loss.backward()\n",
    "    optimizer.step()\n",
    "\n",
    "    # Print the loss every 100 epochs\n",
    "    if (epoch + 1) % 100 == 0:\n",
    "        print(f'Epoch [{epoch+1}/{1000}], Loss: {loss.item():.4f}')\n"
   ]
  },
  {
   "cell_type": "code",
   "execution_count": 25,
   "id": "dff3ec1a",
   "metadata": {},
   "outputs": [
    {
     "name": "stdout",
     "output_type": "stream",
     "text": [
      "Accuracy: 0.5000\n"
     ]
    }
   ],
   "source": [
    "# your code here\n",
    "# visualize the resuts\n",
    "with torch.no_grad():\n",
    "    outputs = model1(data_in)\n",
    "    predictions = torch.round(outputs)\n",
    "    accuracy = (predictions == data_target).float().mean()\n",
    "\n",
    "print(\"Accuracy: {:.4f}\".format(accuracy.item()))"
   ]
  },
  {
   "cell_type": "code",
   "execution_count": 26,
   "id": "c1a7518b",
   "metadata": {},
   "outputs": [
    {
     "name": "stdout",
     "output_type": "stream",
     "text": [
      "l1.weight tensor([[ 6.8715e-05, -6.8763e-04]])\n"
     ]
    }
   ],
   "source": [
    "# your code here\n",
    "for name, param in model1.named_parameters():\n",
    "    if 'weight' in name:\n",
    "        print(name, param.data)"
   ]
  },
  {
   "cell_type": "code",
   "execution_count": 17,
   "id": "4cdf09ba",
   "metadata": {},
   "outputs": [
    {
     "name": "stdout",
     "output_type": "stream",
     "text": [
      "Epoch [100/1000], Loss: 0.6932\n",
      "Epoch [200/1000], Loss: 0.6929\n",
      "Epoch [300/1000], Loss: 0.6925\n",
      "Epoch [400/1000], Loss: 0.6920\n",
      "Epoch [500/1000], Loss: 0.6912\n",
      "Epoch [600/1000], Loss: 0.6899\n",
      "Epoch [700/1000], Loss: 0.6876\n",
      "Epoch [800/1000], Loss: 0.6827\n",
      "Epoch [900/1000], Loss: 0.6710\n",
      "Epoch [1000/1000], Loss: 0.6344\n",
      "Accuracy: 0.7500\n",
      "l1.weight tensor([[-0.7174,  0.7193],\n",
      "        [-0.3720, -0.6863],\n",
      "        [ 0.5498, -0.1232],\n",
      "        [-0.4867,  0.5097],\n",
      "        [-0.6701,  0.6692],\n",
      "        [-0.1196,  0.3551],\n",
      "        [-0.3953,  0.5079],\n",
      "        [-0.3078, -0.5240]])\n",
      "l2.weight tensor([[-0.4862, -0.2900,  0.0228,  0.1898, -0.1849, -0.2511, -0.4263, -0.3334],\n",
      "        [ 0.3128, -0.1563, -0.2906,  0.3523,  0.4410, -0.1476, -0.1149,  0.0567],\n",
      "        [ 0.4278, -0.1141,  0.3333, -0.2911,  0.2540,  0.1745, -0.0285, -0.1008],\n",
      "        [ 0.0875, -0.0083,  0.0312, -0.0010, -0.2840,  0.2037,  0.1770,  0.2045],\n",
      "        [ 0.4074,  0.0029, -0.3653,  0.4193,  0.2955,  0.1278,  0.3585, -0.3347],\n",
      "        [ 0.1283,  0.0252,  0.1811, -0.0377, -0.1222,  0.2448, -0.2635,  0.0850],\n",
      "        [ 0.3708,  0.3152,  0.3430,  0.1663,  0.1818,  0.1302,  0.2920, -0.1042],\n",
      "        [ 0.4384,  0.1585,  0.1464, -0.0820,  0.1670,  0.3426,  0.1163, -0.1118],\n",
      "        [ 0.1670, -0.2925,  0.0359,  0.1168, -0.0751,  0.2280,  0.2502, -0.1163],\n",
      "        [ 0.0264,  0.0943, -0.2211, -0.2710,  0.0968, -0.3060,  0.2348, -0.1295],\n",
      "        [-0.0897,  0.1763, -0.0328,  0.0257, -0.0504, -0.0433,  0.0892,  0.2846],\n",
      "        [ 0.1013,  0.0484, -0.3018, -0.2650,  0.2784,  0.1822, -0.3549, -0.0029],\n",
      "        [-0.3525,  0.0834, -0.2090, -0.2606, -0.2654,  0.1775, -0.1238, -0.0488],\n",
      "        [ 0.0762,  0.1496,  0.2114, -0.0433, -0.2782, -0.0672,  0.2732, -0.3294],\n",
      "        [ 0.1011, -0.2060,  0.2058,  0.0424,  0.3238,  0.3175,  0.1133, -0.0570],\n",
      "        [-0.2066,  0.0715, -0.0041,  0.0005, -0.1465, -0.0870,  0.3141, -0.2748]])\n",
      "l3.weight tensor([[-0.2321, -0.0250,  0.1186,  0.1721,  0.0619,  0.2158,  0.0916, -0.0677,\n",
      "         -0.1337, -0.0679, -0.0601, -0.0011,  0.0928, -0.1021,  0.0872, -0.0050],\n",
      "        [-0.2335,  0.0780, -0.1257,  0.1499,  0.1558,  0.1432,  0.2049, -0.1664,\n",
      "         -0.1519,  0.0503, -0.2286, -0.1625,  0.1421, -0.0642, -0.0718, -0.0700],\n",
      "        [-0.4815,  0.4133,  0.0707, -0.2269,  0.2802,  0.0649,  0.4372,  0.3014,\n",
      "          0.0937,  0.0604, -0.1143, -0.0467, -0.1613,  0.1412,  0.2079, -0.1139],\n",
      "        [-0.2081,  0.1392,  0.1173, -0.2232,  0.0554, -0.1263, -0.0268,  0.1243,\n",
      "          0.1687,  0.1200, -0.0179, -0.0008,  0.1930, -0.0947, -0.2390,  0.0332],\n",
      "        [-0.0917,  0.1231,  0.1961, -0.0282,  0.3481,  0.1195, -0.1114,  0.1412,\n",
      "          0.0751,  0.1959,  0.0133, -0.1745, -0.3012, -0.2502, -0.1508,  0.1876],\n",
      "        [ 0.1858,  0.0520, -0.1357,  0.1207, -0.2475,  0.1557,  0.1381,  0.1616,\n",
      "         -0.1986,  0.0724,  0.1524, -0.0697,  0.1443, -0.0597,  0.1129,  0.1183],\n",
      "        [-0.0271, -0.2470, -0.2255,  0.2250,  0.1649, -0.0046, -0.0976, -0.0397,\n",
      "          0.0677, -0.0544, -0.0207,  0.2315,  0.1295, -0.1081, -0.1129, -0.2437],\n",
      "        [ 0.2438, -0.1124, -0.2665,  0.0460, -0.3592,  0.1933, -0.3445, -0.1980,\n",
      "          0.2059, -0.0052,  0.1871, -0.0242,  0.3709, -0.0663, -0.0361,  0.2631]])\n",
      "l4.weight tensor([[-0.0508, -0.1808,  0.8267, -0.0552,  0.3931, -0.1830,  0.2197, -0.6988]])\n"
     ]
    }
   ],
   "source": [
    "model2 = nn.Sequential(OrderedDict([('l1', nn.Linear(2, 8)), ('relu1', nn.ReLU()), ('l2', nn.Linear(8, 16)), ('sigmoid1', nn.Sigmoid()), ('l3', nn.Linear(16, 8)), ('relu2', nn.ReLU()), ('l4', nn.Linear(8, 1)), ('sigmoid2', nn.Sigmoid())]))\n",
    "data_in = torch.tensor([[0, 0], [0, 1], [1, 0], [1, 1]]).float()\n",
    "data_target = torch.tensor([[0], [1], [1], [0]]).float()\n",
    "criterion = torch.nn.BCELoss()\n",
    "optimizer = torch.optim.SGD(model2.parameters(), lr=0.1)\n",
    "for epoch in range(1000):\n",
    "    # Forward pass\n",
    "    outputs = model2(data_in)\n",
    "    loss = criterion(outputs, data_target)\n",
    "\n",
    "    # Backward pass and optimization\n",
    "    optimizer.zero_grad()\n",
    "    loss.backward()\n",
    "    optimizer.step()\n",
    "\n",
    "    # Print the loss every 100 epochs\n",
    "    if (epoch + 1) % 100 == 0:\n",
    "        print(f'Epoch [{epoch+1}/{1000}], Loss: {loss.item():.4f}')\n",
    "with torch.no_grad():\n",
    "    outputs = model2(data_in)\n",
    "    predictions = torch.round(outputs)\n",
    "    accuracy = (predictions == data_target).float().mean()\n",
    "\n",
    "print(\"Accuracy: {:.4f}\".format(accuracy.item()))\n",
    "\n",
    "for name, param in model2.named_parameters():\n",
    "    if 'weight' in name:\n",
    "        print(name, param.data)"
   ]
  },
  {
   "cell_type": "code",
   "execution_count": 18,
   "id": "d0bea66c",
   "metadata": {},
   "outputs": [
    {
     "name": "stdout",
     "output_type": "stream",
     "text": [
      "Epoch [100/1000], Loss: 0.6932\n",
      "Epoch [200/1000], Loss: 0.6932\n",
      "Epoch [300/1000], Loss: 0.6932\n",
      "Epoch [400/1000], Loss: 0.6932\n",
      "Epoch [500/1000], Loss: 0.6932\n",
      "Epoch [600/1000], Loss: 0.6932\n",
      "Epoch [700/1000], Loss: 0.6932\n",
      "Epoch [800/1000], Loss: 0.6932\n",
      "Epoch [900/1000], Loss: 0.6932\n",
      "Epoch [1000/1000], Loss: 0.6932\n",
      "Accuracy: 0.5000\n",
      "l1.weight tensor([[ 0.0256, -0.2535],\n",
      "        [-0.0349,  0.3517],\n",
      "        [ 0.3055, -0.4381],\n",
      "        [ 0.2046,  0.6331],\n",
      "        [-0.0630,  0.5278],\n",
      "        [-0.1773,  0.2771],\n",
      "        [ 0.6974,  0.5981],\n",
      "        [ 0.4746,  0.0300]])\n",
      "l2.weight tensor([[-0.0917,  0.1083, -0.1011, -0.0653,  0.1430, -0.0620, -0.2679, -0.1252],\n",
      "        [ 0.0929,  0.2411,  0.1443, -0.2476,  0.1068, -0.0789, -0.1642, -0.2028],\n",
      "        [ 0.1845, -0.0215, -0.0763,  0.0361,  0.3004, -0.3424, -0.1119,  0.0931],\n",
      "        [-0.1299, -0.2582, -0.1997,  0.2085,  0.1998, -0.3487, -0.1371,  0.0785],\n",
      "        [ 0.0870,  0.2241, -0.3153,  0.0835,  0.2354,  0.0922,  0.1823, -0.1380],\n",
      "        [ 0.0459,  0.1400, -0.2118,  0.1732, -0.0970,  0.0690, -0.0582,  0.2088],\n",
      "        [ 0.0391, -0.3514, -0.0482, -0.2693,  0.0656,  0.1541,  0.0191,  0.2294],\n",
      "        [-0.1044,  0.0209,  0.2412, -0.1262,  0.3213,  0.0337, -0.0020, -0.1628],\n",
      "        [-0.2074, -0.0209, -0.3089, -0.0145, -0.3294,  0.3260, -0.3009,  0.0554],\n",
      "        [ 0.1457,  0.2078, -0.1793, -0.1026,  0.1552,  0.2977, -0.1298, -0.1445],\n",
      "        [ 0.3376, -0.0938,  0.0525,  0.1013,  0.1517,  0.1933,  0.1668, -0.0449],\n",
      "        [-0.1458,  0.1148,  0.1513, -0.0325,  0.2096, -0.2871,  0.0795, -0.0790],\n",
      "        [ 0.3472, -0.0083, -0.1026,  0.2070,  0.3313,  0.3236, -0.0380, -0.3165],\n",
      "        [-0.1050,  0.0943,  0.1913, -0.1868, -0.3514, -0.2810,  0.2401,  0.2154],\n",
      "        [ 0.2080, -0.1353, -0.1400, -0.0716, -0.2429, -0.0309, -0.3477,  0.2131],\n",
      "        [ 0.1297,  0.2738, -0.3097,  0.2245,  0.1125, -0.3374,  0.1901, -0.2869]])\n",
      "l3.weight tensor([[ 0.1029, -0.1872, -0.1115,  0.1227,  0.0030,  0.0965, -0.0769, -0.1907,\n",
      "          0.2224, -0.0287,  0.2358, -0.1258,  0.1691, -0.0470,  0.2450, -0.0762],\n",
      "        [ 0.0271, -0.0266, -0.1648,  0.0622,  0.1895,  0.1767,  0.0943, -0.0772,\n",
      "          0.1925, -0.2226, -0.0176,  0.0552, -0.1587,  0.0346, -0.0107,  0.2018],\n",
      "        [ 0.0951,  0.0118,  0.0712, -0.0807,  0.0413,  0.1784,  0.2231, -0.1920,\n",
      "         -0.1211,  0.0936, -0.2007, -0.0189, -0.0799, -0.2261,  0.1371, -0.0540],\n",
      "        [-0.0897,  0.2049, -0.0367,  0.0933,  0.2047, -0.1273,  0.0189, -0.1163,\n",
      "         -0.1261,  0.1985, -0.0936, -0.0971, -0.0766, -0.0654, -0.0854,  0.2418],\n",
      "        [ 0.1240,  0.0246,  0.1925, -0.1529,  0.0344,  0.0372, -0.1277,  0.2131,\n",
      "          0.2217, -0.0721, -0.0177,  0.0502,  0.2240, -0.0943,  0.0177, -0.1168],\n",
      "        [-0.1653, -0.0348, -0.2130,  0.0281,  0.0159,  0.1906,  0.0984,  0.2430,\n",
      "          0.0925,  0.0298, -0.2381,  0.1044, -0.1424,  0.0335,  0.0256, -0.1956],\n",
      "        [-0.1818, -0.0840,  0.0883,  0.2444, -0.1392, -0.1021,  0.0622, -0.0382,\n",
      "         -0.1675,  0.2027, -0.1270, -0.0779,  0.1813, -0.2220, -0.2476,  0.2348],\n",
      "        [ 0.1179, -0.2479,  0.1986, -0.2100,  0.1635, -0.1927,  0.0480,  0.0578,\n",
      "         -0.0757, -0.0092, -0.1716,  0.0174,  0.0283, -0.0200,  0.0859, -0.0804]])\n",
      "l4.weight tensor([[ 0.0801, -0.0921, -0.2681, -0.0288,  0.3204, -0.1405, -0.3203, -0.0381]])\n"
     ]
    }
   ],
   "source": [
    "model3 = nn.Sequential(OrderedDict([('l1', nn.Linear(2, 8)), ('s1', nn.Sigmoid()), ('l2', nn.Linear(8, 16)), ('sigmoid1', nn.Sigmoid()), ('l3', nn.Linear(16, 8)), ('s2', nn.Sigmoid()), ('l4', nn.Linear(8, 1)), ('sigmoid2', nn.Sigmoid())]))\n",
    "data_in = torch.tensor([[0, 0], [0, 1], [1, 0], [1, 1]]).float()\n",
    "data_target = torch.tensor([[0], [1], [1], [0]]).float()\n",
    "criterion = torch.nn.BCELoss()\n",
    "optimizer = torch.optim.SGD(model3.parameters(), lr=0.1)\n",
    "for epoch in range(1000):\n",
    "    # Forward pass\n",
    "    outputs = model3(data_in)\n",
    "    loss = criterion(outputs, data_target)\n",
    "\n",
    "    # Backward pass and optimization\n",
    "    optimizer.zero_grad()\n",
    "    loss.backward()\n",
    "    optimizer.step()\n",
    "\n",
    "    # Print the loss every 100 epochs\n",
    "    if (epoch + 1) % 100 == 0:\n",
    "        print(f'Epoch [{epoch+1}/{1000}], Loss: {loss.item():.4f}')\n",
    "with torch.no_grad():\n",
    "    outputs = model3(data_in)\n",
    "    predictions = torch.round(outputs)\n",
    "    accuracy = (predictions == data_target).float().mean()\n",
    "\n",
    "print(\"Accuracy: {:.4f}\".format(accuracy.item()))\n",
    "\n",
    "for name, param in model3.named_parameters():\n",
    "    if 'weight' in name:\n",
    "        print(name, param.data)"
   ]
  },
  {
   "cell_type": "code",
   "execution_count": null,
   "id": "e29c65a2",
   "metadata": {},
   "outputs": [],
   "source": []
  }
 ],
 "metadata": {
  "kernelspec": {
   "display_name": "Python 3 (ipykernel)",
   "language": "python",
   "name": "python3"
  },
  "language_info": {
   "codemirror_mode": {
    "name": "ipython",
    "version": 3
   },
   "file_extension": ".py",
   "mimetype": "text/x-python",
   "name": "python",
   "nbconvert_exporter": "python",
   "pygments_lexer": "ipython3",
   "version": "3.9.13"
  }
 },
 "nbformat": 4,
 "nbformat_minor": 5
}
